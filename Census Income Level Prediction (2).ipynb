{
 "cells": [
  {
   "cell_type": "markdown",
   "metadata": {},
   "source": [
    "# Predicting Income Classes with Machine Learning #\n",
    "\n",
    "Author: Drew Wilimitis <br>\n",
    "Date: 11/22/2018\n"
   ]
  },
  {
   "cell_type": "code",
   "execution_count": 1,
   "metadata": {},
   "outputs": [],
   "source": [
    "# display multiple outputs within a cell\n",
    "from IPython.core.interactiveshell import InteractiveShell\n",
    "InteractiveShell.ast_node_interactivity = \"all\"\n",
    "# import libraries\n",
    "import pandas as pd\n",
    "import numpy as np\n",
    "import matplotlib.pyplot as plt"
   ]
  },
  {
   "cell_type": "markdown",
   "metadata": {},
   "source": [
    "After performing exploratory data analysis and visualization, data cleaning, and engineering some features in R, we now implement our machine learning models in Python in order to take advantage of the scikit-learn framework"
   ]
  },
  {
   "cell_type": "code",
   "execution_count": 3,
   "metadata": {},
   "outputs": [],
   "source": [
    "# read in the preprocessed training data\n",
    "train_file = \"C:/Users/Drew/Desktop/Hyatt/census_train_clean.csv\"\n",
    "train = pd.read_csv(train_file)\n",
    "\n",
    "# read in validation or test data to be used later\n",
    "test_file = \"C:/Users/Drew/Desktop/Hyatt/census_validation.csv\"\n",
    "test = pd.read_csv(test_file)"
   ]
  },
  {
   "cell_type": "code",
   "execution_count": 4,
   "metadata": {},
   "outputs": [],
   "source": [
    "# drop unnecessary columns\n",
    "train = train.drop('Unnamed: 0', axis=1)\n",
    "test = test.drop('Unnamed: 0', axis=1)"
   ]
  },
  {
   "cell_type": "code",
   "execution_count": 68,
   "metadata": {},
   "outputs": [
    {
     "data": {
      "text/html": [
       "<div>\n",
       "<style scoped>\n",
       "    .dataframe tbody tr th:only-of-type {\n",
       "        vertical-align: middle;\n",
       "    }\n",
       "\n",
       "    .dataframe tbody tr th {\n",
       "        vertical-align: top;\n",
       "    }\n",
       "\n",
       "    .dataframe thead th {\n",
       "        text-align: right;\n",
       "    }\n",
       "</style>\n",
       "<table border=\"1\" class=\"dataframe\">\n",
       "  <thead>\n",
       "    <tr style=\"text-align: right;\">\n",
       "      <th></th>\n",
       "      <th>age</th>\n",
       "      <th>work_class</th>\n",
       "      <th>education</th>\n",
       "      <th>marital_status</th>\n",
       "      <th>occupation</th>\n",
       "      <th>race</th>\n",
       "      <th>sex</th>\n",
       "      <th>native_country</th>\n",
       "      <th>income_ind</th>\n",
       "      <th>non_zero_cap</th>\n",
       "      <th>hours_worked</th>\n",
       "    </tr>\n",
       "  </thead>\n",
       "  <tbody>\n",
       "    <tr>\n",
       "      <th>0</th>\n",
       "      <td>39</td>\n",
       "      <td>gov</td>\n",
       "      <td>college_grad</td>\n",
       "      <td>not_married</td>\n",
       "      <td>middle_class</td>\n",
       "      <td>white</td>\n",
       "      <td>Male</td>\n",
       "      <td>developed</td>\n",
       "      <td>0</td>\n",
       "      <td>1</td>\n",
       "      <td>40-45</td>\n",
       "    </tr>\n",
       "    <tr>\n",
       "      <th>1</th>\n",
       "      <td>50</td>\n",
       "      <td>self</td>\n",
       "      <td>college_grad</td>\n",
       "      <td>married</td>\n",
       "      <td>upper_class</td>\n",
       "      <td>white</td>\n",
       "      <td>Male</td>\n",
       "      <td>developed</td>\n",
       "      <td>0</td>\n",
       "      <td>0</td>\n",
       "      <td>0-39</td>\n",
       "    </tr>\n",
       "    <tr>\n",
       "      <th>2</th>\n",
       "      <td>38</td>\n",
       "      <td>private</td>\n",
       "      <td>hs_grad</td>\n",
       "      <td>not_married</td>\n",
       "      <td>lower_class</td>\n",
       "      <td>white</td>\n",
       "      <td>Male</td>\n",
       "      <td>developed</td>\n",
       "      <td>0</td>\n",
       "      <td>0</td>\n",
       "      <td>40-45</td>\n",
       "    </tr>\n",
       "    <tr>\n",
       "      <th>3</th>\n",
       "      <td>53</td>\n",
       "      <td>private</td>\n",
       "      <td>no_hs</td>\n",
       "      <td>married</td>\n",
       "      <td>lower_class</td>\n",
       "      <td>non_white</td>\n",
       "      <td>Male</td>\n",
       "      <td>developed</td>\n",
       "      <td>0</td>\n",
       "      <td>0</td>\n",
       "      <td>40-45</td>\n",
       "    </tr>\n",
       "    <tr>\n",
       "      <th>4</th>\n",
       "      <td>28</td>\n",
       "      <td>private</td>\n",
       "      <td>college_grad</td>\n",
       "      <td>married</td>\n",
       "      <td>upper_class</td>\n",
       "      <td>non_white</td>\n",
       "      <td>Female</td>\n",
       "      <td>under_developed</td>\n",
       "      <td>0</td>\n",
       "      <td>0</td>\n",
       "      <td>40-45</td>\n",
       "    </tr>\n",
       "  </tbody>\n",
       "</table>\n",
       "</div>"
      ],
      "text/plain": [
       "   age work_class     education marital_status    occupation       race  \\\n",
       "0   39        gov  college_grad    not_married  middle_class      white   \n",
       "1   50       self  college_grad        married   upper_class      white   \n",
       "2   38    private       hs_grad    not_married   lower_class      white   \n",
       "3   53    private         no_hs        married   lower_class  non_white   \n",
       "4   28    private  college_grad        married   upper_class  non_white   \n",
       "\n",
       "      sex   native_country  income_ind  non_zero_cap hours_worked  \n",
       "0    Male        developed           0             1        40-45  \n",
       "1    Male        developed           0             0         0-39  \n",
       "2    Male        developed           0             0        40-45  \n",
       "3    Male        developed           0             0        40-45  \n",
       "4  Female  under_developed           0             0        40-45  "
      ]
     },
     "execution_count": 68,
     "metadata": {},
     "output_type": "execute_result"
    },
    {
     "name": "stdout",
     "output_type": "stream",
     "text": [
      "<class 'pandas.core.frame.DataFrame'>\n",
      "RangeIndex: 30162 entries, 0 to 30161\n",
      "Data columns (total 11 columns):\n",
      "age               30162 non-null int64\n",
      "work_class        30162 non-null object\n",
      "education         30162 non-null object\n",
      "marital_status    30162 non-null object\n",
      "occupation        30162 non-null object\n",
      "race              30162 non-null object\n",
      "sex               30162 non-null object\n",
      "native_country    30162 non-null object\n",
      "income_ind        30162 non-null int64\n",
      "non_zero_cap      30162 non-null int64\n",
      "hours_worked      30162 non-null object\n",
      "dtypes: int64(3), object(8)\n",
      "memory usage: 2.5+ MB\n"
     ]
    },
    {
     "data": {
      "text/html": [
       "<div>\n",
       "<style scoped>\n",
       "    .dataframe tbody tr th:only-of-type {\n",
       "        vertical-align: middle;\n",
       "    }\n",
       "\n",
       "    .dataframe tbody tr th {\n",
       "        vertical-align: top;\n",
       "    }\n",
       "\n",
       "    .dataframe thead th {\n",
       "        text-align: right;\n",
       "    }\n",
       "</style>\n",
       "<table border=\"1\" class=\"dataframe\">\n",
       "  <thead>\n",
       "    <tr style=\"text-align: right;\">\n",
       "      <th></th>\n",
       "      <th>age</th>\n",
       "      <th>work_class</th>\n",
       "      <th>education</th>\n",
       "      <th>marital_status</th>\n",
       "      <th>occupation</th>\n",
       "      <th>race</th>\n",
       "      <th>sex</th>\n",
       "      <th>native_country</th>\n",
       "      <th>non_zero_cap</th>\n",
       "      <th>hours_worked</th>\n",
       "      <th>income</th>\n",
       "    </tr>\n",
       "  </thead>\n",
       "  <tbody>\n",
       "    <tr>\n",
       "      <th>0</th>\n",
       "      <td>25</td>\n",
       "      <td>private</td>\n",
       "      <td>no_hs</td>\n",
       "      <td>not_married</td>\n",
       "      <td>lower_class</td>\n",
       "      <td>non_white</td>\n",
       "      <td>Male</td>\n",
       "      <td>developed</td>\n",
       "      <td>0</td>\n",
       "      <td>40-45</td>\n",
       "      <td>0</td>\n",
       "    </tr>\n",
       "    <tr>\n",
       "      <th>1</th>\n",
       "      <td>38</td>\n",
       "      <td>private</td>\n",
       "      <td>hs_grad</td>\n",
       "      <td>married</td>\n",
       "      <td>lower_class</td>\n",
       "      <td>white</td>\n",
       "      <td>Male</td>\n",
       "      <td>developed</td>\n",
       "      <td>0</td>\n",
       "      <td>46-60</td>\n",
       "      <td>0</td>\n",
       "    </tr>\n",
       "    <tr>\n",
       "      <th>2</th>\n",
       "      <td>28</td>\n",
       "      <td>gov</td>\n",
       "      <td>assoc</td>\n",
       "      <td>married</td>\n",
       "      <td>upper_class</td>\n",
       "      <td>white</td>\n",
       "      <td>Male</td>\n",
       "      <td>developed</td>\n",
       "      <td>0</td>\n",
       "      <td>40-45</td>\n",
       "      <td>1</td>\n",
       "    </tr>\n",
       "    <tr>\n",
       "      <th>3</th>\n",
       "      <td>44</td>\n",
       "      <td>private</td>\n",
       "      <td>assoc</td>\n",
       "      <td>married</td>\n",
       "      <td>lower_class</td>\n",
       "      <td>non_white</td>\n",
       "      <td>Male</td>\n",
       "      <td>developed</td>\n",
       "      <td>1</td>\n",
       "      <td>40-45</td>\n",
       "      <td>1</td>\n",
       "    </tr>\n",
       "    <tr>\n",
       "      <th>4</th>\n",
       "      <td>18</td>\n",
       "      <td>private</td>\n",
       "      <td>assoc</td>\n",
       "      <td>not_married</td>\n",
       "      <td>middle_class</td>\n",
       "      <td>white</td>\n",
       "      <td>Female</td>\n",
       "      <td>developed</td>\n",
       "      <td>0</td>\n",
       "      <td>0-39</td>\n",
       "      <td>0</td>\n",
       "    </tr>\n",
       "  </tbody>\n",
       "</table>\n",
       "</div>"
      ],
      "text/plain": [
       "   age work_class education marital_status    occupation       race     sex  \\\n",
       "0   25    private     no_hs    not_married   lower_class  non_white    Male   \n",
       "1   38    private   hs_grad        married   lower_class      white    Male   \n",
       "2   28        gov     assoc        married   upper_class      white    Male   \n",
       "3   44    private     assoc        married   lower_class  non_white    Male   \n",
       "4   18    private     assoc    not_married  middle_class      white  Female   \n",
       "\n",
       "  native_country  non_zero_cap hours_worked  income  \n",
       "0      developed             0        40-45       0  \n",
       "1      developed             0        46-60       0  \n",
       "2      developed             0        40-45       1  \n",
       "3      developed             1        40-45       1  \n",
       "4      developed             0         0-39       0  "
      ]
     },
     "execution_count": 68,
     "metadata": {},
     "output_type": "execute_result"
    }
   ],
   "source": [
    "# look at training data\n",
    "# income_ind = 1 if income > 50K and 0 if income <= 50K\n",
    "train.head()\n",
    "train.info()\n",
    "test.head()"
   ]
  },
  {
   "cell_type": "markdown",
   "metadata": {},
   "source": [
    "We must further prepare the data in order to use with sci-kit learn <br>\n",
    "\n",
    "We need to convert categorical variables to numeric indicators because sci-kit learn generally must have all numerical input variables"
   ]
  },
  {
   "cell_type": "code",
   "execution_count": 50,
   "metadata": {},
   "outputs": [],
   "source": [
    "# a list of the categorical features in the training data\n",
    "cat_features = ['work_class', 'education', 'marital_status', 'occupation', \n",
    "                'race', 'sex', 'native_country', 'hours_worked']\n",
    "\n",
    "# data frame that contains only the categorical features in the training data\n",
    "train_cat = train[cat_features]\n",
    "test_cat = test[cat_features]"
   ]
  },
  {
   "cell_type": "code",
   "execution_count": 76,
   "metadata": {},
   "outputs": [],
   "source": [
    "# import sklearn_pandas package to prepare pandas dataframe to be used by scikit learn\n",
    "from sklearn_pandas import DataFrameMapper\n",
    "from sklearn_pandas import gen_features\n",
    "from sklearn.preprocessing import LabelBinarizer\n",
    "from sklearn.preprocessing import StandardScaler\n",
    "\n",
    "# convert categorical features into binary indicators ('one-hot' vector encoding)\n",
    "feature_def = gen_features(\n",
    "     columns=cat_features,\n",
    "     classes=[LabelBinarizer])\n",
    "\n",
    "# apply our transformations to the datasets\n",
    "mapper = DataFrameMapper(feature_def)\n",
    "data = train_cat\n",
    "data_prep = mapper.fit_transform(data)\n",
    "\n",
    "mapper_test = DataFrameMapper(feature_def)\n",
    "data_test = test_cat\n",
    "test_prep = mapper.fit_transform(data_test)"
   ]
  },
  {
   "cell_type": "code",
   "execution_count": 77,
   "metadata": {},
   "outputs": [
    {
     "data": {
      "text/plain": [
       "['work_class_gov',\n",
       " 'work_class_private',\n",
       " 'work_class_self',\n",
       " 'education_assoc',\n",
       " 'education_college_grad',\n",
       " 'education_grad_school',\n",
       " 'education_hs_grad',\n",
       " 'education_no_hs',\n",
       " 'marital_status',\n",
       " 'occupation_lower_class',\n",
       " 'occupation_middle_class',\n",
       " 'occupation_upper_class',\n",
       " 'race',\n",
       " 'sex',\n",
       " 'native_country',\n",
       " 'hours_worked_0-39',\n",
       " 'hours_worked_40-45',\n",
       " 'hours_worked_46-60',\n",
       " 'hours_worked_60+']"
      ]
     },
     "execution_count": 77,
     "metadata": {},
     "output_type": "execute_result"
    },
    {
     "data": {
      "text/plain": [
       "array([0, 0, 1, 0, 1, 0, 0, 0, 0, 0, 0, 1, 1, 1, 0, 1, 0, 0, 0])"
      ]
     },
     "execution_count": 77,
     "metadata": {},
     "output_type": "execute_result"
    },
    {
     "data": {
      "text/plain": [
       "numpy.ndarray"
      ]
     },
     "execution_count": 77,
     "metadata": {},
     "output_type": "execute_result"
    }
   ],
   "source": [
    "# examine the new indicator variables \n",
    "data_prep_names = mapper.transformed_names_\n",
    "data_prep_names\n",
    "# compare to first row of our transformed categorical data\n",
    "data_prep[1]\n",
    "# our transformed data is now a numpy array, which is better suited for use with scikit-learn\n",
    "type(data_prep)"
   ]
  },
  {
   "cell_type": "code",
   "execution_count": 78,
   "metadata": {},
   "outputs": [
    {
     "data": {
      "text/plain": [
       "['work_class_gov',\n",
       " 'work_class_private',\n",
       " 'work_class_self',\n",
       " 'education_assoc',\n",
       " 'education_college_grad',\n",
       " 'education_grad_school',\n",
       " 'education_hs_grad',\n",
       " 'education_no_hs',\n",
       " 'marital_status',\n",
       " 'occupation_lower_class',\n",
       " 'occupation_middle_class',\n",
       " 'occupation_upper_class',\n",
       " 'race',\n",
       " 'sex',\n",
       " 'native_country',\n",
       " 'hours_worked_0-39',\n",
       " 'hours_worked_40-45',\n",
       " 'hours_worked_46-60',\n",
       " 'hours_worked_60+',\n",
       " 'age',\n",
       " 'non_zero_cap']"
      ]
     },
     "execution_count": 78,
     "metadata": {},
     "output_type": "execute_result"
    }
   ],
   "source": [
    "# convert to numpy array and standardize age feature\n",
    "age = np.array(train['age'])\n",
    "age = (age - np.mean(age)) / np.std(age)\n",
    "\n",
    "age_test = np.array(test['age'])\n",
    "age_test = (age_test - np.mean(age_test)) / np.std(age_test)\n",
    "\n",
    "# reshape to get a column vector\n",
    "age = np.vstack(age)\n",
    "age_test = np.vstack(age_test)\n",
    "\n",
    "# convert to numpy array and reshape \n",
    "non_zero_cap = np.array(train['non_zero_cap'])\n",
    "non_zero_cap = np.vstack(non_zero_cap)\n",
    "\n",
    "non_zero_cap_test = np.array(test['non_zero_cap'])\n",
    "non_zero_cap_test = np.vstack(non_zero_cap_test)\n",
    "\n",
    "# add numerical features into our prepared training data\n",
    "data_prep = np.append(data_prep, age, 1)\n",
    "data_prep = np.append(data_prep, non_zero_cap, 1)\n",
    "\n",
    "test_prep = np.append(test_prep, age_test, 1)\n",
    "test_prep = np.append(test_prep, non_zero_cap_test, 1)\n",
    "\n",
    "# examine the final feature names of our prepped data\n",
    "data_prep_names.append('age')\n",
    "data_prep_names.append('non_zero_cap')\n",
    "data_prep_names"
   ]
  },
  {
   "cell_type": "markdown",
   "metadata": {},
   "source": [
    "We have all of our features appropriately formatted and now we can begin fitting some models to the training data <br>\n",
    "<br>\n",
    "Before we begin building our predictive models, we consider some suitable algorithms for this problem"
   ]
  },
  {
   "cell_type": "markdown",
   "metadata": {},
   "source": [
    "# <font color='blue'>Potential Classification Algorithms</font>\n",
    "********"
   ]
  },
  {
   "cell_type": "markdown",
   "metadata": {},
   "source": [
    "\n",
    "### Analyzing our prediction task "
   ]
  },
  {
   "cell_type": "markdown",
   "metadata": {},
   "source": [
    "* Binary classification: our target predictions are 1 (income > 50K), and 0 (income <= 50K)\n",
    "* Class imbalance: roughly 25% of observations are in the positive class (1) for high-income \n",
    "* The size of our training set: somewhat small with around 30,000 observations (rows)\n",
    "* Number of features, collinearity between features: relatively small number of features, however many of these predictor variables are likely correlated"
   ]
  },
  {
   "cell_type": "markdown",
   "metadata": {},
   "source": [
    "Therefore, I will implement and compare the performance of the following three classification algorithms:"
   ]
  },
  {
   "cell_type": "markdown",
   "metadata": {},
   "source": [
    "#### 1.) Logistic Regression"
   ]
  },
  {
   "cell_type": "markdown",
   "metadata": {},
   "source": [
    "* Typically the first approach that comes to mind for binary classification\n",
    "* Should perform well enough to compete with more complex models\n",
    "* More interpretable than more complex models (odds-ratios will give the effects of predictor variables)\n",
    "* Time complexity likely scales better than some more complex models"
   ]
  },
  {
   "cell_type": "markdown",
   "metadata": {},
   "source": [
    "#### 2.) Support Vector Machine"
   ]
  },
  {
   "cell_type": "markdown",
   "metadata": {},
   "source": [
    "* Powerful classification algorithm with straightforward implementation in scikit-learn\n",
    "* Not as interpretable\n",
    "* Time complexity does not scale very well, but should have good performance for this relatively small/medium dataset"
   ]
  },
  {
   "cell_type": "markdown",
   "metadata": {},
   "source": [
    "#### 3.) Random Forest Classifier"
   ]
  },
  {
   "cell_type": "markdown",
   "metadata": {},
   "source": [
    "* Ensemble method - possibly significant improvements in classification accuracy\n",
    "* Not very interpretable, can become computationally expensive to tune hyperparameters\n",
    "* Unlike logistic regression, doesn't output probabilities for the predictions"
   ]
  },
  {
   "cell_type": "markdown",
   "metadata": {},
   "source": [
    "********"
   ]
  },
  {
   "cell_type": "markdown",
   "metadata": {},
   "source": [
    "# Logistic Regression"
   ]
  },
  {
   "cell_type": "code",
   "execution_count": 80,
   "metadata": {},
   "outputs": [],
   "source": [
    "# splitting the training features and the training income labels\n",
    "X_train, y_train = data_prep, train['income_ind']\n",
    "X_test, y_test = test_prep, test['income']"
   ]
  },
  {
   "cell_type": "code",
   "execution_count": 81,
   "metadata": {},
   "outputs": [
    {
     "data": {
      "text/plain": [
       "LogisticRegression(C=1.0, class_weight=None, dual=False, fit_intercept=True,\n",
       "          intercept_scaling=1, max_iter=1000, multi_class='ovr', n_jobs=1,\n",
       "          penalty='l2', random_state=None, solver='liblinear', tol=0.0001,\n",
       "          verbose=0, warm_start=False)"
      ]
     },
     "execution_count": 81,
     "metadata": {},
     "output_type": "execute_result"
    },
    {
     "name": "stdout",
     "output_type": "stream",
     "text": [
      "Predictions:\n"
     ]
    },
    {
     "data": {
      "text/plain": [
       "array([0, 0, 0, 0, 0, 1, 0, 0, 1, 1], dtype=int64)"
      ]
     },
     "execution_count": 81,
     "metadata": {},
     "output_type": "execute_result"
    },
    {
     "name": "stdout",
     "output_type": "stream",
     "text": [
      "Actual values:\n"
     ]
    },
    {
     "data": {
      "text/plain": [
       "array([0, 0, 0, 0, 0, 0, 0, 1, 1, 1], dtype=int64)"
      ]
     },
     "execution_count": 81,
     "metadata": {},
     "output_type": "execute_result"
    },
    {
     "name": "stdout",
     "output_type": "stream",
     "text": [
      "Predicted Probabilities:\n"
     ]
    },
    {
     "data": {
      "text/plain": [
       "array([[0.70984319, 0.29015681],\n",
       "       [0.507495  , 0.492505  ],\n",
       "       [0.98437824, 0.01562176],\n",
       "       [0.91984272, 0.08015728],\n",
       "       [0.60669735, 0.39330265],\n",
       "       [0.29444542, 0.70555458],\n",
       "       [0.99811908, 0.00188092],\n",
       "       [0.5642983 , 0.4357017 ],\n",
       "       [0.41235885, 0.58764115],\n",
       "       [0.10227478, 0.89772522]])"
      ]
     },
     "execution_count": 81,
     "metadata": {},
     "output_type": "execute_result"
    }
   ],
   "source": [
    "# fit logistic regression model\n",
    "from sklearn.linear_model import LogisticRegression\n",
    "log_reg = LogisticRegression(C = 1.0, max_iter = 1000)\n",
    "log_model = log_reg.fit(X_train, y_train)\n",
    "log_model\n",
    "\n",
    "# view some predictions compared to true labels\n",
    "print(\"Predictions:\")\n",
    "log_reg.predict(X_train[:10])\n",
    "print(\"Actual values:\")\n",
    "np.array(y_train[:10])\n",
    "\n",
    "# provide the predicted probabilities\n",
    "y_train_probs = log_model.predict_proba(X_train[:10])\n",
    "print(\"Predicted Probabilities:\")\n",
    "y_train_probs"
   ]
  },
  {
   "cell_type": "code",
   "execution_count": 97,
   "metadata": {},
   "outputs": [
    {
     "name": "stdout",
     "output_type": "stream",
     "text": [
      "Accuracy: 0.8339632650354751\n"
     ]
    }
   ],
   "source": [
    "# make predictions on the whole training dataset\n",
    "y_train_pred = log_model.predict(X_train)\n",
    "# evaluate accuracy of training predictions\n",
    "overall_acc = sum(y_train_pred == y_train) / len(y_train)\n",
    "print(\"Accuracy: \" + str(overall_acc))"
   ]
  },
  {
   "cell_type": "code",
   "execution_count": 83,
   "metadata": {},
   "outputs": [
    {
     "name": "stdout",
     "output_type": "stream",
     "text": [
      "Base model accuracy: 0.7510775147536636\n",
      "Base model precision: 0.24892248524633645\n"
     ]
    }
   ],
   "source": [
    "# compare the accuracy to the base estimator (null model)\n",
    "# by simply always predicting '0', accuracy = 75.1%\n",
    "# by simply always predicting '1', precision = 24.9%\n",
    "null_acc = 1 - y_train.mean()\n",
    "null_prec =  y_train.mean()\n",
    "print(\"Base model accuracy: \" + str(null_acc))\n",
    "print(\"Base model precision: \" + str(null_prec))"
   ]
  },
  {
   "cell_type": "code",
   "execution_count": 84,
   "metadata": {},
   "outputs": [
    {
     "data": {
      "text/html": [
       "<div>\n",
       "<style scoped>\n",
       "    .dataframe tbody tr th:only-of-type {\n",
       "        vertical-align: middle;\n",
       "    }\n",
       "\n",
       "    .dataframe tbody tr th {\n",
       "        vertical-align: top;\n",
       "    }\n",
       "\n",
       "    .dataframe thead th {\n",
       "        text-align: right;\n",
       "    }\n",
       "</style>\n",
       "<table border=\"1\" class=\"dataframe\">\n",
       "  <thead>\n",
       "    <tr style=\"text-align: right;\">\n",
       "      <th></th>\n",
       "      <th>feature</th>\n",
       "      <th>coef</th>\n",
       "      <th>odds_ratio</th>\n",
       "    </tr>\n",
       "  </thead>\n",
       "  <tbody>\n",
       "    <tr>\n",
       "      <th>0</th>\n",
       "      <td>work_class_gov</td>\n",
       "      <td>-0.137866</td>\n",
       "      <td>0.871216</td>\n",
       "    </tr>\n",
       "    <tr>\n",
       "      <th>1</th>\n",
       "      <td>work_class_private</td>\n",
       "      <td>-0.092180</td>\n",
       "      <td>0.911941</td>\n",
       "    </tr>\n",
       "    <tr>\n",
       "      <th>2</th>\n",
       "      <td>work_class_self</td>\n",
       "      <td>-0.237745</td>\n",
       "      <td>0.788404</td>\n",
       "    </tr>\n",
       "    <tr>\n",
       "      <th>3</th>\n",
       "      <td>education_assoc</td>\n",
       "      <td>-0.029825</td>\n",
       "      <td>0.970615</td>\n",
       "    </tr>\n",
       "    <tr>\n",
       "      <th>4</th>\n",
       "      <td>education_college_grad</td>\n",
       "      <td>0.567059</td>\n",
       "      <td>1.763075</td>\n",
       "    </tr>\n",
       "    <tr>\n",
       "      <th>5</th>\n",
       "      <td>education_grad_school</td>\n",
       "      <td>1.011342</td>\n",
       "      <td>2.749288</td>\n",
       "    </tr>\n",
       "    <tr>\n",
       "      <th>6</th>\n",
       "      <td>education_hs_grad</td>\n",
       "      <td>-0.536844</td>\n",
       "      <td>0.584590</td>\n",
       "    </tr>\n",
       "    <tr>\n",
       "      <th>7</th>\n",
       "      <td>education_no_hs</td>\n",
       "      <td>-1.479523</td>\n",
       "      <td>0.227746</td>\n",
       "    </tr>\n",
       "    <tr>\n",
       "      <th>8</th>\n",
       "      <td>marital_status</td>\n",
       "      <td>-2.288806</td>\n",
       "      <td>0.101387</td>\n",
       "    </tr>\n",
       "    <tr>\n",
       "      <th>9</th>\n",
       "      <td>occupation_lower_class</td>\n",
       "      <td>-0.822475</td>\n",
       "      <td>0.439343</td>\n",
       "    </tr>\n",
       "    <tr>\n",
       "      <th>10</th>\n",
       "      <td>occupation_middle_class</td>\n",
       "      <td>-0.143765</td>\n",
       "      <td>0.866092</td>\n",
       "    </tr>\n",
       "    <tr>\n",
       "      <th>11</th>\n",
       "      <td>occupation_upper_class</td>\n",
       "      <td>0.498449</td>\n",
       "      <td>1.646166</td>\n",
       "    </tr>\n",
       "    <tr>\n",
       "      <th>12</th>\n",
       "      <td>race</td>\n",
       "      <td>0.093588</td>\n",
       "      <td>1.098107</td>\n",
       "    </tr>\n",
       "    <tr>\n",
       "      <th>13</th>\n",
       "      <td>sex</td>\n",
       "      <td>0.110640</td>\n",
       "      <td>1.116993</td>\n",
       "    </tr>\n",
       "    <tr>\n",
       "      <th>14</th>\n",
       "      <td>native_country</td>\n",
       "      <td>-0.499114</td>\n",
       "      <td>0.607068</td>\n",
       "    </tr>\n",
       "    <tr>\n",
       "      <th>15</th>\n",
       "      <td>hours_worked_0-39</td>\n",
       "      <td>-0.941504</td>\n",
       "      <td>0.390041</td>\n",
       "    </tr>\n",
       "    <tr>\n",
       "      <th>16</th>\n",
       "      <td>hours_worked_40-45</td>\n",
       "      <td>-0.126323</td>\n",
       "      <td>0.881330</td>\n",
       "    </tr>\n",
       "    <tr>\n",
       "      <th>17</th>\n",
       "      <td>hours_worked_46-60</td>\n",
       "      <td>0.341298</td>\n",
       "      <td>1.406773</td>\n",
       "    </tr>\n",
       "    <tr>\n",
       "      <th>18</th>\n",
       "      <td>hours_worked_60+</td>\n",
       "      <td>0.258738</td>\n",
       "      <td>1.295295</td>\n",
       "    </tr>\n",
       "    <tr>\n",
       "      <th>19</th>\n",
       "      <td>age</td>\n",
       "      <td>0.394554</td>\n",
       "      <td>1.483723</td>\n",
       "    </tr>\n",
       "    <tr>\n",
       "      <th>20</th>\n",
       "      <td>non_zero_cap</td>\n",
       "      <td>1.481755</td>\n",
       "      <td>4.400661</td>\n",
       "    </tr>\n",
       "  </tbody>\n",
       "</table>\n",
       "</div>"
      ],
      "text/plain": [
       "                    feature      coef  odds_ratio\n",
       "0            work_class_gov -0.137866    0.871216\n",
       "1        work_class_private -0.092180    0.911941\n",
       "2           work_class_self -0.237745    0.788404\n",
       "3           education_assoc -0.029825    0.970615\n",
       "4    education_college_grad  0.567059    1.763075\n",
       "5     education_grad_school  1.011342    2.749288\n",
       "6         education_hs_grad -0.536844    0.584590\n",
       "7           education_no_hs -1.479523    0.227746\n",
       "8            marital_status -2.288806    0.101387\n",
       "9    occupation_lower_class -0.822475    0.439343\n",
       "10  occupation_middle_class -0.143765    0.866092\n",
       "11   occupation_upper_class  0.498449    1.646166\n",
       "12                     race  0.093588    1.098107\n",
       "13                      sex  0.110640    1.116993\n",
       "14           native_country -0.499114    0.607068\n",
       "15        hours_worked_0-39 -0.941504    0.390041\n",
       "16       hours_worked_40-45 -0.126323    0.881330\n",
       "17       hours_worked_46-60  0.341298    1.406773\n",
       "18         hours_worked_60+  0.258738    1.295295\n",
       "19                      age  0.394554    1.483723\n",
       "20             non_zero_cap  1.481755    4.400661"
      ]
     },
     "execution_count": 84,
     "metadata": {},
     "output_type": "execute_result"
    }
   ],
   "source": [
    "# coefficients from logistic regression model\n",
    "coef = np.transpose(log_model.coef_)\n",
    "coef_list = np.squeeze(coef)\n",
    "\n",
    "# display as data frame\n",
    "coef_df = pd.DataFrame(coef_list)\n",
    "coef_df['coef'] = coef_df[0]\n",
    "coef_df[0] = data_prep_names\n",
    "coef_df.columns = ['feature', 'coef']\n",
    "coef_df['odds_ratio'] = np.exp(coef_df['coef'])\n",
    "coef_df"
   ]
  },
  {
   "cell_type": "markdown",
   "metadata": {},
   "source": [
    "## Evaluate performance on training data ##"
   ]
  },
  {
   "cell_type": "code",
   "execution_count": 85,
   "metadata": {},
   "outputs": [
    {
     "name": "stdout",
     "output_type": "stream",
     "text": [
      "Precision score:0.6846635367762128\n",
      "Recall score:0.5825565912117177\n",
      "Overall accuracy:0.8292723354881485\n",
      "\n",
      "Precision score:0.6850202429149798\n",
      "Recall score:0.563249001331558\n",
      "Overall accuracy:0.8267860102768109\n",
      "\n",
      "Precision score:0.7067851373182552\n",
      "Recall score:0.5825565912117177\n",
      "Overall accuracy:0.8359025360517156\n",
      "\n",
      "Precision score:0.7229219143576826\n",
      "Recall score:0.5736175882744837\n",
      "Overall accuracy:0.8391909814323607\n",
      "\n",
      "Precision score:0.7007751937984497\n",
      "Recall score:0.6022651565622918\n",
      "Overall accuracy:0.8370087879290333\n",
      "\n"
     ]
    }
   ],
   "source": [
    "# stratified K-fold cross validation (unbalanced target classes)\n",
    "# note: this implementation is similar to cross_val_score from sklearn\n",
    "from sklearn.model_selection import StratifiedKFold\n",
    "from sklearn.base import clone\n",
    "from sklearn.metrics import confusion_matrix, precision_score, recall_score, f1_score, accuracy_score\n",
    "# set number of folds and random_state to maintain reproducibility\n",
    "# for each iteration we partition training data into a train fold and a test fold \n",
    "skfolds = StratifiedKFold(n_splits=5, random_state=42)\n",
    "for train_index, test_index in skfolds.split(X_train, y_train):\n",
    "    # make a new copy of the logistic regression classifier\n",
    "    clone_clf = clone(log_reg)\n",
    "    X_train_folds = X_train[train_index]\n",
    "    y_train_folds = (y_train[train_index])\n",
    "    X_test_fold = X_train[test_index]\n",
    "    y_test_fold = (y_train[test_index])\n",
    "    # fit model to train folds\n",
    "    clone_model = clone_clf.fit(X_train_folds, y_train_folds)\n",
    "    # make predictions on test folds\n",
    "    y_pred = clone_model.predict(X_test_fold)\n",
    "    # evaluate prediction accuracy on test folds\n",
    "    print(\"Precision score:\" + str(precision_score(y_test_fold, y_pred)))\n",
    "    print(\"Recall score:\" + str(recall_score(y_test_fold, y_pred)))\n",
    "    print(\"Overall accuracy:\" + str(accuracy_score(y_test_fold, y_pred)) + '\\n')"
   ]
  },
  {
   "cell_type": "markdown",
   "metadata": {},
   "source": [
    "### Precision and Recall"
   ]
  },
  {
   "cell_type": "markdown",
   "metadata": {},
   "source": [
    "$$Precision = \\frac{TP}{TP + TN}$$"
   ]
  },
  {
   "cell_type": "markdown",
   "metadata": {},
   "source": [
    "precision = accuracy of positive predictions, or accuracy of high income predictions"
   ]
  },
  {
   "cell_type": "markdown",
   "metadata": {},
   "source": [
    "$$Recall = \\frac{TP}{TP + FN}$$"
   ]
  },
  {
   "cell_type": "markdown",
   "metadata": {},
   "source": [
    "recall (sensitivity) = true positive rate, ratio of positive (high income) instances predicted correctly"
   ]
  },
  {
   "cell_type": "markdown",
   "metadata": {},
   "source": [
    "## Tuning the model"
   ]
  },
  {
   "cell_type": "code",
   "execution_count": 135,
   "metadata": {},
   "outputs": [
    {
     "data": {
      "text/plain": [
       "GridSearchCV(cv=5, error_score='raise',\n",
       "       estimator=LogisticRegression(C=1.0, class_weight=None, dual=False, fit_intercept=True,\n",
       "          intercept_scaling=1, max_iter=1000, multi_class='ovr', n_jobs=1,\n",
       "          penalty='l2', random_state=None, solver='liblinear', tol=0.0001,\n",
       "          verbose=0, warm_start=False),\n",
       "       fit_params=None, iid=True, n_jobs=1,\n",
       "       param_grid={'C': [0.001, 0.01, 0.1, 1, 10, 100, 1000], 'penalty': ['l1', 'l2']},\n",
       "       pre_dispatch='2*n_jobs', refit=True, return_train_score='warn',\n",
       "       scoring='accuracy', verbose=0)"
      ]
     },
     "execution_count": 135,
     "metadata": {},
     "output_type": "execute_result"
    },
    {
     "data": {
      "text/plain": [
       "{'C': 0.01, 'penalty': 'l2'}"
      ]
     },
     "execution_count": 135,
     "metadata": {},
     "output_type": "execute_result"
    }
   ],
   "source": [
    "# Grid search\n",
    "from sklearn.model_selection import GridSearchCV\n",
    "\n",
    "param_grid = {'C': [0.001, 0.01, 0.1, 1, 10, 100, 1000], 'penalty': ['l1', 'l2'] }\n",
    "\n",
    "grid_search = GridSearchCV(LogisticRegression(max_iter = 1000), param_grid, cv=5, scoring = 'accuracy')\n",
    "grid_search.fit(X_train, y_train)\n",
    "grid_search.best_params_\n",
    "final_model = grid_search.best_estimator_"
   ]
  },
  {
   "cell_type": "markdown",
   "metadata": {},
   "source": [
    "**We find that the best value for the \"regularization\" parameter C is 0.01**"
   ]
  },
  {
   "cell_type": "markdown",
   "metadata": {},
   "source": [
    "## Evaluating performance on test set"
   ]
  },
  {
   "cell_type": "code",
   "execution_count": 213,
   "metadata": {},
   "outputs": [
    {
     "name": "stdout",
     "output_type": "stream",
     "text": [
      "Precision score:0.6837403216200119\n",
      "Recall score:0.5969838793551742\n",
      "f1 score:0.6374236535258189\n",
      "Overall accuracy:0.8395675941281248\n"
     ]
    }
   ],
   "source": [
    "from sklearn.metrics import confusion_matrix, precision_score, recall_score, f1_score, accuracy_score\n",
    "test_pred = final_model.predict(X_test)\n",
    "print(\"Precision score:\" + str(precision_score(y_test, test_pred)))\n",
    "print(\"Recall score:\" + str(recall_score(y_test, test_pred)))\n",
    "print(\"f1 score:\" + str(f1_score(y_test, test_pred)))\n",
    "print(\"Overall accuracy:\" + str(accuracy_score(y_test, test_pred)))"
   ]
  },
  {
   "cell_type": "markdown",
   "metadata": {},
   "source": [
    "### Confusion Matrix"
   ]
  },
  {
   "cell_type": "code",
   "execution_count": 92,
   "metadata": {},
   "outputs": [
    {
     "data": {
      "text/plain": [
       "<Figure size 432x288 with 0 Axes>"
      ]
     },
     "execution_count": 92,
     "metadata": {},
     "output_type": "execute_result"
    },
    {
     "name": "stdout",
     "output_type": "stream",
     "text": [
      "Confusion matrix, without normalization\n",
      "[[11555   880]\n",
      " [ 1743  2103]]\n"
     ]
    },
    {
     "data": {
      "text/plain": [
       "<Figure size 432x288 with 0 Axes>"
      ]
     },
     "execution_count": 92,
     "metadata": {},
     "output_type": "execute_result"
    },
    {
     "name": "stdout",
     "output_type": "stream",
     "text": [
      "Normalized confusion matrix\n",
      "[[0.93 0.07]\n",
      " [0.45 0.55]]\n"
     ]
    },
    {
     "data": {
      "image/png": "[encoded data removed]",
      "text/plain": [
       "<Figure size 432x288 with 2 Axes>"
      ]
     },
     "metadata": {},
     "output_type": "display_data"
    },
    {
     "data": {
      "image/png": "[encoded data removed]",
      "text/plain": [
       "<Figure size 432x288 with 2 Axes>"
      ]
     },
     "metadata": {},
     "output_type": "display_data"
    }
   ],
   "source": [
    "# function to plot a graphical display of confusion matrix\n",
    "\n",
    "import itertools\n",
    "\n",
    "def plot_confusion_matrix(cm, classes,\n",
    "                          normalize=False,\n",
    "                          title='Confusion matrix',\n",
    "                          cmap=plt.cm.Blues):\n",
    "    \"\"\"\n",
    "    This function prints and plots the confusion matrix.\n",
    "    Normalization can be applied by setting `normalize=True`.\n",
    "    \"\"\"\n",
    "    if normalize:\n",
    "        cm = cm.astype('float') / cm.sum(axis=1)[:, np.newaxis]\n",
    "        print(\"Normalized confusion matrix\")\n",
    "    else:\n",
    "        print('Confusion matrix, without normalization')\n",
    "\n",
    "    print(cm)\n",
    "\n",
    "    plt.imshow(cm, interpolation='nearest', cmap=cmap)\n",
    "    plt.title(title)\n",
    "    plt.colorbar()\n",
    "    tick_marks = np.arange(len(classes))\n",
    "    plt.xticks(tick_marks, classes, rotation=45)\n",
    "    plt.yticks(tick_marks, classes)\n",
    "\n",
    "    fmt = '.2f' if normalize else 'd'\n",
    "    thresh = cm.max() / 2.\n",
    "    for i, j in itertools.product(range(cm.shape[0]), range(cm.shape[1])):\n",
    "        plt.text(j, i, format(cm[i, j], fmt),\n",
    "                 horizontalalignment=\"center\",\n",
    "                 color=\"white\" if cm[i, j] > thresh else \"black\")\n",
    "\n",
    "    plt.ylabel('True label')\n",
    "    plt.xlabel('Predicted label')\n",
    "    plt.tight_layout()\n",
    "\n",
    "# class names\n",
    "class_names = ['low_income', 'high_income']\n",
    "\n",
    "# Compute confusion matrix\n",
    "cnf_matrix = confusion_matrix(y_test, test_pred)\n",
    "np.set_printoptions(precision=2)\n",
    "\n",
    "# Plot non-normalized confusion matrix\n",
    "plt.figure()\n",
    "plot_confusion_matrix(cnf_matrix, classes=class_names,\n",
    "                      title='Confusion matrix, without normalization')\n",
    "\n",
    "# Plot normalized confusion matrix\n",
    "plt.figure()\n",
    "plot_confusion_matrix(cnf_matrix, classes=class_names, normalize=True,\n",
    "                      title='Normalized confusion matrix')\n",
    "\n",
    "plt.show()"
   ]
  },
  {
   "cell_type": "markdown",
   "metadata": {},
   "source": [
    "The confusion matrix shows the prediction accuracy for >50K was 55% and 93% accurate for <=50K"
   ]
  },
  {
   "cell_type": "markdown",
   "metadata": {},
   "source": [
    "### ROC Curve and AUC ('Area under curve') score"
   ]
  },
  {
   "cell_type": "markdown",
   "metadata": {},
   "source": [
    "ROC Curve and auc score are a way to evaluate the performance of the classifier over both income prediction classes\n",
    "<br>\n",
    "<br>\n",
    "The dotted line represents a useless classifier\n",
    "<br>\n",
    "<br>\n",
    "Predicting every instance as a \"1\" will have maximal True Positive rate and False Positive rate\n",
    "<br>\n",
    "<br>\n",
    "The allowed rate of False positives is determined by the specific problem (i.e. Fraud detection might require a lower probability threshhold to decide to classify fradulent activity - higher rates of false positives)"
   ]
  },
  {
   "cell_type": "code",
   "execution_count": 184,
   "metadata": {},
   "outputs": [
    {
     "data": {
      "image/png": "[encoded data removed]",
      "text/plain": [
       "<Figure size 432x288 with 1 Axes>"
      ]
     },
     "metadata": {},
     "output_type": "display_data"
    },
    {
     "data": {
      "text/plain": [
       "0.8925189351763857"
      ]
     },
     "execution_count": 184,
     "metadata": {},
     "output_type": "execute_result"
    }
   ],
   "source": [
    "from sklearn.metrics import roc_curve\n",
    "from sklearn.model_selection import cross_val_score, cross_val_predict\n",
    "\n",
    "y_scores = log_model.decision_function(X_test)\n",
    "\n",
    "fpr, tpr, thresholds = roc_curve(y_test, y_scores)\n",
    "\n",
    "# function to plot roc curve\n",
    "def plot_roc_curve(fpr, tpr, label=None):\n",
    "    plt.plot(fpr, tpr, linewidth=2, label=label)\n",
    "    plt.plot([0, 1], [0, 1], 'k--')\n",
    "    plt.axis([0, 1, 0, 1])\n",
    "    plt.xlabel('False Positive Rate')\n",
    "    plt.ylabel('True Positive Rate')\n",
    "\n",
    "plot_roc_curve(fpr, tpr)\n",
    "plt.show()\n",
    "\n",
    "# AUC \"Area under curve\" score\n",
    "from sklearn.metrics import roc_auc_score\n",
    "roc_auc_score(y_test, y_scores)"
   ]
  },
  {
   "cell_type": "markdown",
   "metadata": {},
   "source": [
    "## Decision threshhold\n",
    "<br>\n",
    "<br>\n",
    "Precision/Recall Tradeoff - Raising threshhold increases precision, lowers recall\n",
    "<br>\n",
    "Lowering threshhold decreases precision, increases recall"
   ]
  },
  {
   "cell_type": "code",
   "execution_count": 163,
   "metadata": {},
   "outputs": [
    {
     "data": {
      "text/plain": [
       "array([-0.89, -0.03, -4.14, -2.44, -0.43,  0.87, -6.27, -0.26,  0.35,\n",
       "        2.17])"
      ]
     },
     "execution_count": 163,
     "metadata": {},
     "output_type": "execute_result"
    },
    {
     "data": {
      "text/plain": [
       "array([0, 0, 0, 0, 0, 0, 0, 1, 1, 1], dtype=int64)"
      ]
     },
     "execution_count": 163,
     "metadata": {},
     "output_type": "execute_result"
    },
    {
     "data": {
      "text/plain": [
       "array([0, 0, 0, 0, 0, 1, 0, 0, 1, 1], dtype=int64)"
      ]
     },
     "execution_count": 163,
     "metadata": {},
     "output_type": "execute_result"
    },
    {
     "data": {
      "text/plain": [
       "array([False, False, False, False, False,  True, False, False,  True,\n",
       "        True])"
      ]
     },
     "execution_count": 163,
     "metadata": {},
     "output_type": "execute_result"
    }
   ],
   "source": [
    "# examine decision function used in classifier\n",
    "y_scores = log_model.decision_function(X_train[:10])\n",
    "y_scores\n",
    "np.array(y_train[:10])\n",
    "\n",
    "# decision threshhold at 0\n",
    "y_train_pred[:10]\n",
    "threshhold = 0\n",
    "y_scores > threshhold"
   ]
  },
  {
   "cell_type": "code",
   "execution_count": 161,
   "metadata": {},
   "outputs": [
    {
     "data": {
      "image/png": "[encoded data removed]",
      "text/plain": [
       "<Figure size 432x288 with 1 Axes>"
      ]
     },
     "metadata": {},
     "output_type": "display_data"
    }
   ],
   "source": [
    "from sklearn.model_selection import cross_val_score, cross_val_predict\n",
    "y_scores = cross_val_predict(log_reg, X_train, y_train, cv=3, method=\"decision_function\")\n",
    "\n",
    "from sklearn.metrics import precision_recall_curve\n",
    "precisions, recalls, thresholds = precision_recall_curve(y_train, y_scores)\n",
    "\n",
    "# function to plot precision and recall over all decision threshholds\n",
    "def plot_precision_recall_vs_threshold(precisions, recalls, thresholds):\n",
    "    plt.plot(thresholds, precisions[:-1], \"b--\", label=\"Precision\")\n",
    "    plt.plot(thresholds, recalls[:-1], \"g-\", label=\"Recall\")\n",
    "    plt.xlabel(\"Threshold\")\n",
    "    plt.legend(loc=\"upper left\")\n",
    "    plt.ylim([0, 1])\n",
    "\n",
    "plot_precision_recall_vs_threshold(precisions, recalls, thresholds)\n",
    "plt.show()"
   ]
  },
  {
   "cell_type": "markdown",
   "metadata": {},
   "source": [
    "We can see the tradeoff between Precision and Recall. For this problem, since we have a class imbalance and only 25% of samples have an income >50K, correctly predicting more of the high-income class is likely preferrable. Therefore, we test the model performance with a decreased threshhold for identifying an individual in the positive (high-income) class."
   ]
  },
  {
   "cell_type": "code",
   "execution_count": 182,
   "metadata": {},
   "outputs": [
    {
     "name": "stdout",
     "output_type": "stream",
     "text": [
      "\n",
      "******** For i = 0.05 ******\n",
      "Recall score is 0.984919396775871\n",
      "Precision score is 0.3641607383195539\n",
      "Accuracy score is 0.5901971623364658\n",
      "\n",
      "******** For i = 0.1 ******\n",
      "Recall score is 0.953198127925117\n",
      "Precision score is 0.4279710483306094\n",
      "Accuracy score is 0.6879798538173331\n",
      "\n",
      "******** For i = 0.15 ******\n"
     ]
    },
    {
     "name": "stderr",
     "output_type": "stream",
     "text": [
      "C:\\Users\\Drew\\Anaconda3\\lib\\site-packages\\ipykernel_launcher.py:9: FutureWarning: Method .as_matrix will be removed in a future version. Use .values instead.\n",
      "  if __name__ == '__main__':\n",
      "C:\\Users\\Drew\\Anaconda3\\lib\\site-packages\\ipykernel_launcher.py:10: FutureWarning: Method .as_matrix will be removed in a future version. Use .values instead.\n",
      "  # Remove the CWD from sys.path while we load stuff.\n",
      "C:\\Users\\Drew\\Anaconda3\\lib\\site-packages\\ipykernel_launcher.py:12: FutureWarning: Method .as_matrix will be removed in a future version. Use .values instead.\n",
      "  if sys.path[0] == '':\n",
      "C:\\Users\\Drew\\Anaconda3\\lib\\site-packages\\ipykernel_launcher.py:13: FutureWarning: Method .as_matrix will be removed in a future version. Use .values instead.\n",
      "  del sys.path[0]\n",
      "C:\\Users\\Drew\\Anaconda3\\lib\\site-packages\\ipykernel_launcher.py:15: FutureWarning: Method .as_matrix will be removed in a future version. Use .values instead.\n",
      "  from ipykernel import kernelapp as app\n",
      "C:\\Users\\Drew\\Anaconda3\\lib\\site-packages\\ipykernel_launcher.py:16: FutureWarning: Method .as_matrix will be removed in a future version. Use .values instead.\n",
      "  app.launch_new_instance()\n"
     ]
    },
    {
     "name": "stdout",
     "output_type": "stream",
     "text": [
      "Recall score is 0.9170566822672906\n",
      "Precision score is 0.4790167051473584\n",
      "Accuracy score is 0.7447945457895707\n",
      "\n",
      "******** For i = 0.2 ******\n",
      "Recall score is 0.8684347373894956\n",
      "Precision score is 0.5199252801992528\n",
      "Accuracy score is 0.7794975738590996\n",
      "\n",
      "******** For i = 0.25 ******\n",
      "Recall score is 0.8265730629225169\n",
      "Precision score is 0.5544122776421346\n",
      "Accuracy score is 0.8021006080707573\n",
      "\n",
      "******** For i = 0.3 ******\n",
      "Recall score is 0.7750910036401456\n",
      "Precision score is 0.5824540836264166\n",
      "Accuracy score is 0.815613291566857\n",
      "\n",
      "******** For i = 0.35 ******\n",
      "Recall score is 0.718928757150286\n",
      "Precision score is 0.6091650143203349\n",
      "Accuracy score is 0.8246422209937965\n",
      "\n",
      "******** For i = 0.4 ******\n",
      "Recall score is 0.6734269370774831\n",
      "Precision score is 0.637616937469227\n",
      "Accuracy score is 0.8324427246483631\n",
      "\n",
      "******** For i = 0.45 ******\n",
      "Recall score is 0.624804992199688\n",
      "Precision score is 0.6658354114713217\n",
      "Accuracy score is 0.8372950064492353\n",
      "\n",
      "******** For i = 0.5 ******\n",
      "Recall score is 0.5741029641185648\n",
      "Precision score is 0.6980714511539677\n",
      "Accuracy score is 0.8407345986118788\n",
      "\n",
      "******** For i = 0.55 ******\n",
      "Recall score is 0.516900676027041\n",
      "Precision score is 0.7218591140159768\n",
      "Accuracy score is 0.8388305386647011\n",
      "\n",
      "******** For i = 0.6 ******\n",
      "Recall score is 0.4583983359334373\n",
      "Precision score is 0.7521331058020477\n",
      "Accuracy score is 0.8363736871199557\n",
      "\n",
      "******** For i = 0.65 ******\n",
      "Recall score is 0.39755590223608944\n",
      "Precision score is 0.7820971867007672\n",
      "Accuracy score is 0.8315214053190836\n",
      "\n",
      "******** For i = 0.7 ******\n",
      "Recall score is 0.33021320852834113\n",
      "Precision score is 0.8048162230671736\n",
      "Accuracy score is 0.8228610036238561\n",
      "\n",
      "******** For i = 0.75 ******\n",
      "Recall score is 0.26911076443057724\n",
      "Precision score is 0.8428338762214984\n",
      "Accuracy score is 0.8154904489896198\n",
      "\n",
      "******** For i = 0.8 ******\n",
      "Recall score is 0.21008840353614144\n",
      "Precision score is 0.8763557483731019\n",
      "Accuracy score is 0.8064000982740618\n",
      "\n",
      "******** For i = 0.85 ******\n",
      "Recall score is 0.15080603224128966\n",
      "Precision score is 0.9133858267716536\n",
      "Accuracy score is 0.7960199004975125\n",
      "\n",
      "******** For i = 0.9 ******\n",
      "Recall score is 0.08346333853354135\n",
      "Precision score is 0.9304347826086956\n",
      "Accuracy score is 0.7820158466924636\n",
      "\n",
      "******** For i = 0.95 ******\n",
      "Recall score is 0.021320852834113363\n",
      "Precision score is 0.9213483146067416\n",
      "Accuracy score is 0.7683803206191266\n",
      "\n",
      "******** For i = 0.99 ******\n",
      "Recall score is 0.0\n",
      "Precision score is 0.0\n",
      "Accuracy score is 0.7637737239727289\n"
     ]
    },
    {
     "name": "stderr",
     "output_type": "stream",
     "text": [
      "C:\\Users\\Drew\\Anaconda3\\lib\\site-packages\\sklearn\\metrics\\classification.py:1135: UndefinedMetricWarning: Precision is ill-defined and being set to 0.0 due to no predicted samples.\n",
      "  'precision', 'predicted', average, warn_for)\n"
     ]
    }
   ],
   "source": [
    "# test accuracy at different threshholds for the probability cutoff\n",
    "pred_prob = log_model.predict_proba(X_test)\n",
    "pred_prob_df = pd.DataFrame(pred_prob)\n",
    "\n",
    "threshold_list = [0.05,0.1,0.15,0.2,0.25,0.3,0.35,0.4,0.45,0.5,0.55,0.6,0.65,.7,.75,.8,.85,.9,.95,.99]\n",
    "for i in threshold_list:\n",
    "    print ('\\n******** For i = {} ******'.format(i))\n",
    "    y_test_pred = pred_prob_df.applymap(lambda x: 1 if x>i else 0)\n",
    "    recall = recall_score(y_test.as_matrix().reshape(y_test.as_matrix().size,1),\n",
    "                                           y_test_pred.iloc[:,1].as_matrix().reshape(y_test_pred.iloc[:,1].as_matrix().size,1))\n",
    "    print('Recall score is {}'.format(recall))\n",
    "    precision = precision_score(y_test.as_matrix().reshape(y_test.as_matrix().size,1),\n",
    "                                           y_test_pred.iloc[:,1].as_matrix().reshape(y_test_pred.iloc[:,1].as_matrix().size,1))\n",
    "    print('Precision score is {}'.format(precision))\n",
    "    acc = accuracy_score(y_test.as_matrix().reshape(y_test.as_matrix().size,1),\n",
    "                                           y_test_pred.iloc[:,1].as_matrix().reshape(y_test_pred.iloc[:,1].as_matrix().size,1))\n",
    "    print('Accuracy score is {}'.format(acc))"
   ]
  },
  {
   "cell_type": "markdown",
   "metadata": {},
   "source": [
    "From the various metrics at the different threshhold levels, it would be optimal to set the cutoff probability around 0.35 to have a more balanced accuracy across both income classes.\n",
    "<br>\n",
    "<br>\n",
    "Therefore, we decrease the threshhold in order to increase the recall."
   ]
  },
  {
   "cell_type": "code",
   "execution_count": 214,
   "metadata": {},
   "outputs": [
    {
     "name": "stdout",
     "output_type": "stream",
     "text": [
      "Precision score:0.6091650143203349\n",
      "Recall score:0.718928757150286\n",
      "f1 score:0.6595110316040549\n",
      "Overall accuracy:0.8246422209937965\n"
     ]
    }
   ],
   "source": [
    "# final predictions with logistic regression model\n",
    "pred_prob = log_model.predict_proba(X_test)\n",
    "pred_prob_df = pd.DataFrame(pred_prob)\n",
    "pred_prob_df[1] = np.where(pred_prob_df[1] > 0.35, 1, 0)\n",
    "y_test_pred = pred_prob_df[1]\n",
    "\n",
    "print(\"Precision score:\" + str(precision_score(y_test, y_test_pred)))\n",
    "print(\"Recall score:\" + str(recall_score(y_test, y_test_pred)))\n",
    "print(\"f1 score:\" + str(f1_score(y_test, y_test_pred)))\n",
    "print(\"Overall accuracy:\" + str(accuracy_score(y_test, y_test_pred)))"
   ]
  },
  {
   "cell_type": "markdown",
   "metadata": {},
   "source": [
    "Although the overall accuracy dropped very slightly, we now have a higher F1 score and much better recall."
   ]
  },
  {
   "cell_type": "markdown",
   "metadata": {},
   "source": [
    "# Stochastic Gradient Descent Classifier"
   ]
  },
  {
   "cell_type": "markdown",
   "metadata": {},
   "source": [
    "Stochastic Gradient Descent is an algorithm that minimizes some cost function, and the SGDClassifier in scikit-learn uses Stochastic Gradient Descent to train or optimize either a logistic regression classifier or a linear SVM classifier\n",
    "<br>\n",
    "<br>\n",
    "It depends on the loss parameter: if loss = 'log' - logistic regression, if loss = 'hinge' - linear SVM"
   ]
  },
  {
   "cell_type": "code",
   "execution_count": 148,
   "metadata": {},
   "outputs": [
    {
     "data": {
      "text/plain": [
       "SGDClassifier(alpha=0.0001, average=False, class_weight=None, epsilon=0.1,\n",
       "       eta0=0.0, fit_intercept=True, l1_ratio=0.15,\n",
       "       learning_rate='optimal', loss='log', max_iter=1000, n_iter=None,\n",
       "       n_jobs=1, penalty='l2', power_t=0.5, random_state=42, shuffle=True,\n",
       "       tol=None, verbose=0, warm_start=False)"
      ]
     },
     "execution_count": 148,
     "metadata": {},
     "output_type": "execute_result"
    },
    {
     "data": {
      "text/plain": [
       "array([0, 0, 0, 0, 0, 1, 0, 0, 1, 1], dtype=int64)"
      ]
     },
     "execution_count": 148,
     "metadata": {},
     "output_type": "execute_result"
    },
    {
     "data": {
      "text/plain": [
       "0    0\n",
       "1    0\n",
       "2    0\n",
       "3    0\n",
       "4    0\n",
       "5    0\n",
       "6    0\n",
       "7    1\n",
       "8    1\n",
       "9    1\n",
       "Name: income_ind, dtype: int64"
      ]
     },
     "execution_count": 148,
     "metadata": {},
     "output_type": "execute_result"
    },
    {
     "name": "stdout",
     "output_type": "stream",
     "text": [
      "Precision score:0.7050442188011792\n",
      "Recall score:0.5733883857218967\n",
      "Overall accuracy:0.834095882235926\n"
     ]
    }
   ],
   "source": [
    "from sklearn.linear_model import SGDClassifier\n",
    "\n",
    "# train a logistic regression model with loss = 'log'\n",
    "sgd_clf = SGDClassifier(random_state=42, loss='log', max_iter = 1000)\n",
    "sgd_clf.fit(X_train, y_train)\n",
    "\n",
    "# test a few simple predictions\n",
    "sgd_clf.predict(X_train[:10])\n",
    "y_train[:10]\n",
    "\n",
    "y_train_pred = sgd_clf.predict(X_train)\n",
    "\n",
    "print(\"Precision score:\" + str(precision_score(y_train, y_train_pred)))\n",
    "print(\"Recall score:\" + str(recall_score(y_train, y_train_pred)))\n",
    "print(\"Overall accuracy:\" + str(accuracy_score(y_train, y_train_pred)))"
   ]
  },
  {
   "cell_type": "markdown",
   "metadata": {},
   "source": [
    "### Tuning the model hyperparameters"
   ]
  },
  {
   "cell_type": "code",
   "execution_count": 227,
   "metadata": {},
   "outputs": [
    {
     "data": {
      "text/plain": [
       "GridSearchCV(cv=3, error_score='raise',\n",
       "       estimator=SGDClassifier(alpha=0.0001, average=False, class_weight=None, epsilon=0.1,\n",
       "       eta0=0.0, fit_intercept=True, l1_ratio=0.15,\n",
       "       learning_rate='optimal', loss='log', max_iter=34, n_iter=None,\n",
       "       n_jobs=1, penalty='l2', power_t=0.5, random_state=None,\n",
       "       shuffle=True, tol=None, verbose=0, warm_start=False),\n",
       "       fit_params=None, iid=True, n_jobs=1,\n",
       "       param_grid={'alpha': array([1.e-01, 1.e-02, 1.e-03, 1.e-04, 1.e-05, 1.e-06])},\n",
       "       pre_dispatch='2*n_jobs', refit=True, return_train_score='warn',\n",
       "       scoring='f1', verbose=0)"
      ]
     },
     "execution_count": 227,
     "metadata": {},
     "output_type": "execute_result"
    },
    {
     "data": {
      "text/plain": [
       "{'alpha': 0.0001}"
      ]
     },
     "execution_count": 227,
     "metadata": {},
     "output_type": "execute_result"
    }
   ],
   "source": [
    "# Grid search\n",
    "from sklearn.model_selection import GridSearchCV\n",
    "sgd_clf = SGDClassifier(loss = 'log', max_iter = 34)\n",
    "\n",
    "# suggested range for tuning alpha, suggested max_iter = np.ceil(10**6 / n) where n = number of samples\n",
    "# from scikit-learn documentation at https://scikit-learn.org/stable/modules/sgd.html\n",
    "alpha_range = 10.0**-np.arange(1,7)\n",
    "param_grid = {'alpha': alpha_range }\n",
    "\n",
    "grid_search = GridSearchCV(sgd_clf, param_grid, cv=3, scoring = 'f1')\n",
    "grid_search.fit(X_train, y_train)\n",
    "grid_search.best_params_\n",
    "final_model = grid_search.best_estimator_"
   ]
  },
  {
   "cell_type": "code",
   "execution_count": 228,
   "metadata": {},
   "outputs": [
    {
     "name": "stdout",
     "output_type": "stream",
     "text": [
      "Precision score:0.7066047129107202\n",
      "Recall score:0.5535621424856995\n",
      "F1 score:0.5535621424856995\n",
      "Overall accuracy:0.8402432283029297\n",
      "roc auc:0.7412362381105619\n"
     ]
    }
   ],
   "source": [
    "from sklearn.metrics import confusion_matrix, precision_score, recall_score, f1_score, accuracy_score\n",
    "\n",
    "test_pred = final_model.predict(X_test)\n",
    "print(\"Precision score:\" + str(precision_score(y_test, test_pred)))\n",
    "print(\"Recall score:\" + str(recall_score(y_test, test_pred)))\n",
    "print(\"F1 score:\" + str(recall_score(y_test, test_pred)))\n",
    "print(\"Overall accuracy:\" + str(accuracy_score(y_test, test_pred)))\n",
    "print(\"roc auc:\" + str(roc_auc_score(y_test, test_pred)))"
   ]
  },
  {
   "cell_type": "markdown",
   "metadata": {},
   "source": [
    "# Random Forest Classifier"
   ]
  },
  {
   "cell_type": "code",
   "execution_count": 220,
   "metadata": {},
   "outputs": [
    {
     "data": {
      "text/plain": [
       "RandomForestClassifier(bootstrap=True, class_weight=None, criterion='gini',\n",
       "            max_depth=None, max_features='auto', max_leaf_nodes=None,\n",
       "            min_impurity_decrease=0.0, min_impurity_split=None,\n",
       "            min_samples_leaf=1, min_samples_split=2,\n",
       "            min_weight_fraction_leaf=0.0, n_estimators=10, n_jobs=1,\n",
       "            oob_score=False, random_state=42, verbose=0, warm_start=False)"
      ]
     },
     "execution_count": 220,
     "metadata": {},
     "output_type": "execute_result"
    },
    {
     "data": {
      "text/plain": [
       "0.9100523837941781"
      ]
     },
     "execution_count": 220,
     "metadata": {},
     "output_type": "execute_result"
    },
    {
     "data": {
      "text/plain": [
       "0.8372485581657054"
      ]
     },
     "execution_count": 220,
     "metadata": {},
     "output_type": "execute_result"
    },
    {
     "data": {
      "text/plain": [
       "0.7927543953116676"
      ]
     },
     "execution_count": 220,
     "metadata": {},
     "output_type": "execute_result"
    }
   ],
   "source": [
    "from sklearn.ensemble import RandomForestClassifier\n",
    "forest_clf = RandomForestClassifier(random_state=42)\n",
    "forest_clf.fit(X_train, y_train)\n",
    "\n",
    "y_train_pred = forest_clf.predict(X_train)\n",
    "accuracy_score(y_train, y_train_pred)\n",
    "precision_score(y_train, y_train_pred)\n",
    "recall_score(y_train, y_train_pred)"
   ]
  },
  {
   "cell_type": "code",
   "execution_count": 232,
   "metadata": {},
   "outputs": [
    {
     "data": {
      "text/plain": [
       "GridSearchCV(cv=3, error_score='raise',\n",
       "       estimator=RandomForestClassifier(bootstrap=True, class_weight=None, criterion='gini',\n",
       "            max_depth=None, max_features='auto', max_leaf_nodes=None,\n",
       "            min_impurity_decrease=0.0, min_impurity_split=None,\n",
       "            min_samples_leaf=1, min_samples_split=2,\n",
       "            min_weight_fraction_leaf=0.0, n_estimators=10, n_jobs=1,\n",
       "            oob_score=False, random_state=None, verbose=0,\n",
       "            warm_start=False),\n",
       "       fit_params=None, iid=True, n_jobs=1,\n",
       "       param_grid=[{'n_estimators': [10, 50, 100], 'max_features': [8, 15, 20]}],\n",
       "       pre_dispatch='2*n_jobs', refit=True, return_train_score='warn',\n",
       "       scoring='f1', verbose=0)"
      ]
     },
     "execution_count": 232,
     "metadata": {},
     "output_type": "execute_result"
    }
   ],
   "source": [
    "from sklearn.model_selection import GridSearchCV\n",
    "param_grid = [\n",
    "{'n_estimators': [10, 50, 100], 'max_features': [8, 15, 20]},\n",
    "]\n",
    "\n",
    "forest_reg = RandomForestClassifier()\n",
    "grid_search = GridSearchCV(forest_reg, param_grid, cv=3, scoring='f1')\n",
    "grid_search.fit(X_train, y_train)"
   ]
  },
  {
   "cell_type": "code",
   "execution_count": 233,
   "metadata": {},
   "outputs": [
    {
     "data": {
      "text/plain": [
       "{'max_features': 20, 'n_estimators': 100}"
      ]
     },
     "execution_count": 233,
     "metadata": {},
     "output_type": "execute_result"
    }
   ],
   "source": [
    "grid_search.best_params_\n",
    "final_model = grid_search.best_estimator_"
   ]
  },
  {
   "cell_type": "code",
   "execution_count": 234,
   "metadata": {},
   "outputs": [
    {
     "name": "stdout",
     "output_type": "stream",
     "text": [
      "Precision score:0.6237595690388432\n",
      "Recall score:0.5720228809152366\n",
      "Overall accuracy:0.8173945089367975\n"
     ]
    }
   ],
   "source": [
    "from sklearn.metrics import confusion_matrix, precision_score, recall_score, f1_score, accuracy_score\n",
    "\n",
    "test_pred = final_model.predict(X_test)\n",
    "\n",
    "print(\"Precision score:\" + str(precision_score(y_test, test_pred)))\n",
    "print(\"Recall score:\" + str(recall_score(y_test, test_pred)))\n",
    "print(\"Overall accuracy:\" + str(accuracy_score(y_test, test_pred)))"
   ]
  },
  {
   "cell_type": "markdown",
   "metadata": {},
   "source": [
    "# Support Vector Machine"
   ]
  },
  {
   "cell_type": "code",
   "execution_count": 240,
   "metadata": {},
   "outputs": [
    {
     "data": {
      "text/plain": [
       "SVC(C=1.0, cache_size=200, class_weight=None, coef0=0.0,\n",
       "  decision_function_shape='ovr', degree=3, gamma='auto', kernel='rbf',\n",
       "  max_iter=-1, probability=False, random_state=None, shrinking=True,\n",
       "  tol=0.001, verbose=False)"
      ]
     },
     "execution_count": 240,
     "metadata": {},
     "output_type": "execute_result"
    },
    {
     "data": {
      "text/plain": [
       "0.839035872952722"
      ]
     },
     "execution_count": 240,
     "metadata": {},
     "output_type": "execute_result"
    },
    {
     "data": {
      "text/plain": [
       "0.7214893972282518"
      ]
     },
     "execution_count": 240,
     "metadata": {},
     "output_type": "execute_result"
    },
    {
     "data": {
      "text/plain": [
       "0.5755194459243473"
      ]
     },
     "execution_count": 240,
     "metadata": {},
     "output_type": "execute_result"
    }
   ],
   "source": [
    "from sklearn.svm import SVC\n",
    "clf = SVC()\n",
    "clf.fit(X_train, y_train)\n",
    "\n",
    "y_train_pred = clf.predict(X_train)\n",
    "accuracy_score(y_train, y_train_pred)\n",
    "precision_score(y_train, y_train_pred)\n",
    "recall_score(y_train, y_train_pred)"
   ]
  },
  {
   "cell_type": "code",
   "execution_count": 235,
   "metadata": {},
   "outputs": [
    {
     "data": {
      "text/plain": [
       "LinearSVC(C=10, class_weight=None, dual=True, fit_intercept=True,\n",
       "     intercept_scaling=1, loss='squared_hinge', max_iter=2000,\n",
       "     multi_class='ovr', penalty='l2', random_state=None, tol=0.0001,\n",
       "     verbose=0)"
      ]
     },
     "execution_count": 235,
     "metadata": {},
     "output_type": "execute_result"
    },
    {
     "data": {
      "text/plain": [
       "0.8345268881373914"
      ]
     },
     "execution_count": 235,
     "metadata": {},
     "output_type": "execute_result"
    },
    {
     "data": {
      "text/plain": [
       "0.7046008779060315"
      ]
     },
     "execution_count": 235,
     "metadata": {},
     "output_type": "execute_result"
    },
    {
     "data": {
      "text/plain": [
       "0.5772509323388386"
      ]
     },
     "execution_count": 235,
     "metadata": {},
     "output_type": "execute_result"
    }
   ],
   "source": [
    "from sklearn.svm import LinearSVC\n",
    "svm_clf = LinearSVC(C=1, loss='squared_hinge', max_iter = 2000)\n",
    "svm_clf.fit(X_train, y_train)\n",
    "\n",
    "y_train_pred = svm_clf.predict(X_train)\n",
    "accuracy_score(y_train, y_train_pred)\n",
    "precision_score(y_train, y_train_pred)\n",
    "recall_score(y_train, y_train_pred)"
   ]
  },
  {
   "cell_type": "code",
   "execution_count": 117,
   "metadata": {
    "collapsed": true
   },
   "outputs": [
    {
     "name": "stdout",
     "output_type": "stream",
     "text": [
      "Precision score:0.6865079365079365\n",
      "Recall score:0.5758988015978695\n",
      "Overall accuracy:0.8289408254599702\n",
      "\n",
      "Precision score:0.6826688364524003\n",
      "Recall score:0.5585885486018641\n",
      "Overall accuracy:0.8254599701640974\n",
      "\n",
      "Precision score:0.7134599504541701\n",
      "Recall score:0.5752330226364847\n",
      "Overall accuracy:0.8367313111221615\n",
      "\n",
      "Precision score:0.7280477408354646\n",
      "Recall score:0.5689540306462358\n",
      "Overall accuracy:0.8398541114058355\n",
      "\n",
      "Precision score:0.702808112324493\n",
      "Recall score:0.6002664890073285\n",
      "Overall accuracy:0.8373404078925551\n",
      "\n"
     ]
    }
   ],
   "source": [
    "# stratified K-fold cross validation (unbalanced target classes)\n",
    "# note: this implementation is similar to cross_val_score from sklearn\n",
    "from sklearn.model_selection import StratifiedKFold\n",
    "from sklearn.base import clone\n",
    "from sklearn.metrics import confusion_matrix, precision_score, recall_score, f1_score, accuracy_score\n",
    "# set number of folds and random_state to maintain reproducibility\n",
    "# for each iteration we partition training data into a train fold and a test fold \n",
    "skfolds = StratifiedKFold(n_splits=5, random_state=42)\n",
    "for train_index, test_index in skfolds.split(X_train, y_train):\n",
    "    # make a new copy of the classifier\n",
    "    clone_clf = clone(svm_clf)\n",
    "    X_train_folds = X_train[train_index]\n",
    "    y_train_folds = (y_train[train_index])\n",
    "    X_test_fold = X_train[test_index]\n",
    "    y_test_fold = (y_train[test_index])\n",
    "    # fit model to train folds\n",
    "    clone_model = clone_clf.fit(X_train_folds, y_train_folds)\n",
    "    # make predictions on test folds\n",
    "    y_pred = clone_model.predict(X_test_fold)\n",
    "    # evaluate prediction accuracy on test folds\n",
    "    print(\"Precision score:\" + str(precision_score(y_test_fold, y_pred)))\n",
    "    print(\"Recall score:\" + str(recall_score(y_test_fold, y_pred)))\n",
    "    print(\"Overall accuracy:\" + str(accuracy_score(y_test_fold, y_pred)) + '\\n')"
   ]
  },
  {
   "cell_type": "code",
   "execution_count": 237,
   "metadata": {},
   "outputs": [
    {
     "data": {
      "text/plain": [
       "GridSearchCV(cv=3, error_score='raise',\n",
       "       estimator=LinearSVC(C=1.0, class_weight=None, dual=True, fit_intercept=True,\n",
       "     intercept_scaling=1, loss='squared_hinge', max_iter=1000,\n",
       "     multi_class='ovr', penalty='l2', random_state=None, tol=0.0001,\n",
       "     verbose=0),\n",
       "       fit_params=None, iid=True, n_jobs=1,\n",
       "       param_grid={'C': [0.01, 0.1, 1, 10]}, pre_dispatch='2*n_jobs',\n",
       "       refit=True, return_train_score='warn', scoring='f1', verbose=0)"
      ]
     },
     "execution_count": 237,
     "metadata": {},
     "output_type": "execute_result"
    },
    {
     "data": {
      "text/plain": [
       "{'C': 10}"
      ]
     },
     "execution_count": 237,
     "metadata": {},
     "output_type": "execute_result"
    }
   ],
   "source": [
    "# Grid search\n",
    "from sklearn.model_selection import GridSearchCV\n",
    "svm_clf = LinearSVC()\n",
    "param_grid = {'C': [0.01, 0.1, 1, 10]}\n",
    "\n",
    "grid_search = GridSearchCV(svm_clf, param_grid, cv=3, scoring = 'f1')\n",
    "grid_search.fit(X_train, y_train)\n",
    "grid_search.best_params_\n",
    "final_model = grid_search.best_estimator_"
   ]
  },
  {
   "cell_type": "code",
   "execution_count": 239,
   "metadata": {},
   "outputs": [
    {
     "name": "stdout",
     "output_type": "stream",
     "text": [
      "Precision score:0.6965189873417722\n",
      "Recall score:0.5722828913156526\n",
      "f1 score:0.6283185840707963\n",
      "Overall accuracy:0.8400589644370738\n"
     ]
    }
   ],
   "source": [
    "from sklearn.metrics import confusion_matrix, precision_score, recall_score, f1_score, accuracy_score\n",
    "\n",
    "test_pred = final_model.predict(X_test)\n",
    "print(\"Precision score:\" + str(precision_score(y_test, test_pred)))\n",
    "print(\"Recall score:\" + str(recall_score(y_test, test_pred)))\n",
    "print(\"f1 score:\" + str(f1_score(y_test, test_pred)))\n",
    "print(\"Overall accuracy:\" + str(accuracy_score(y_test, test_pred)))"
   ]
  },
  {
   "cell_type": "markdown",
   "metadata": {},
   "source": [
    "# Conclusion #"
   ]
  },
  {
   "cell_type": "markdown",
   "metadata": {},
   "source": [
    "The hypothesis that Logistic Regression would not be significantly outperformed by the more complex models seems to be substantiated after comparing model performance.\n",
    "<br>"
   ]
  },
  {
   "cell_type": "markdown",
   "metadata": {},
   "source": [
    "The SGDClassifier and the LinearSVC models both performed about the same as Logistic Regression in terms of precision, recall, and overall accuracy.\n",
    "<br>"
   ]
  },
  {
   "cell_type": "markdown",
   "metadata": {},
   "source": [
    "The Random Forest Classifier showed significant signs of overfitting, as this model performed significantly better on the training data than it did on the test data.\n",
    "<br>"
   ]
  },
  {
   "cell_type": "markdown",
   "metadata": {},
   "source": [
    "I would be inclined to go with the Logistic Regression model for this specific problem, however; there were several limiting factors here (especially time and computational resources). Some further areas to explore might be:\n",
    "<br>\n",
    "* Further investigating more features to engineer, feature importances/correlations\n",
    "* More rigorous and extensive tuning of the model hyperparameters\n",
    "* Giving more thought to how the class imbalance should be handled\n",
    "* Investigating further into the decision threshholds and seeing the impact on precision/recall"
   ]
  }
 ],
 "metadata": {
  "kernelspec": {
   "display_name": "Python 3",
   "language": "python",
   "name": "python3"
  },
  "language_info": {
   "codemirror_mode": {
    "name": "ipython",
    "version": 3
   },
   "file_extension": ".py",
   "mimetype": "text/x-python",
   "name": "python",
   "nbconvert_exporter": "python",
   "pygments_lexer": "ipython3",
   "version": "3.6.5"
  }
 },
 "nbformat": 4,
 "nbformat_minor": 2
}
